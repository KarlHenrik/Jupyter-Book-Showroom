{
 "cells": [
  {
   "cell_type": "code",
   "execution_count": 64,
   "metadata": {},
   "outputs": [],
   "source": [
    "from random import randint"
   ]
  },
  {
   "cell_type": "code",
   "execution_count": 65,
   "metadata": {},
   "outputs": [],
   "source": [
    "#Prisoners Dilemma(give-or-take version) - p.18\n",
    "CC = 2\n",
    "DD = 1\n",
    "CD = 0\n",
    "DC = 3"
   ]
  },
  {
   "cell_type": "code",
   "execution_count": 89,
   "metadata": {},
   "outputs": [],
   "source": [
    "def titForTat(previousYou, previousMe):\n",
    "    if previousYou == 0:\n",
    "        return 1\n",
    "    else:\n",
    "        return previousYou\n",
    "\n",
    "def grimTrigger(previousYou, previousMe):\n",
    "    if previousMe == -1 or previousYou == -1:\n",
    "        return -1\n",
    "    else:\n",
    "        return 1\n",
    "    \n",
    "def alwaysCooperate(previousYou, previousMe):\n",
    "    return 1\n",
    "\n",
    "def alwaysDefect(previousYou, previousMe):\n",
    "    return -1"
   ]
  },
  {
   "cell_type": "code",
   "execution_count": 90,
   "metadata": {},
   "outputs": [],
   "source": [
    "strats = [titForTat, grimTrigger, alwaysCooperate, alwaysDefect]"
   ]
  },
  {
   "cell_type": "code",
   "execution_count": 91,
   "metadata": {},
   "outputs": [],
   "source": [
    "def tournament(strats):\n",
    "    start = 0\n",
    "    n = len(strats)\n",
    "    \n",
    "    score = [0] * n\n",
    "    \n",
    "    for i in range(n):\n",
    "        strat1 = strats[i]\n",
    "        for j in range(n):\n",
    "            strat2 = strats[j]\n",
    "            s1 = start\n",
    "            s2 = start\n",
    "            for k in range(10000):\n",
    "                s1 = strat1(s2, s1)\n",
    "                s2 = strat2(s1, s2)\n",
    "                \n",
    "                s1 = -s1 if randint(1,100) == 1 else s1\n",
    "                s2 = -s2 if randint(1,100) == 1 else s2\n",
    "                if s1 == 0 or s2 == 0:\n",
    "                    print(\"Cheater!\")\n",
    "                if s1 == s2 == 1:\n",
    "                    score[i] += CC\n",
    "                    score[j] += CC\n",
    "                elif s1 == s2 == -1:\n",
    "                    score[i] += DD\n",
    "                    score[j] += DD\n",
    "                elif s1 == 1 and s2 == -1:\n",
    "                    score[i] += CD\n",
    "                    score[j] += DC\n",
    "                elif s1 == -1 and s2 == 1:\n",
    "                    score[i] += DC\n",
    "                    score[j] += CD\n",
    "    return score"
   ]
  },
  {
   "cell_type": "code",
   "execution_count": 93,
   "metadata": {},
   "outputs": [
    {
     "name": "stdout",
     "output_type": "stream",
     "text": [
      "titForTat: 114853\n",
      "grimTrigger: 117239\n",
      "alwaysCooperate: 96222\n",
      "alwaysDefect: 120241\n"
     ]
    }
   ],
   "source": [
    "score = tournament(strats)\n",
    "for i in range(len(strats)):\n",
    "    print(f\"{strats[i].__name__}: {score[i]}\")"
   ]
  },
  {
   "cell_type": "code",
   "execution_count": null,
   "metadata": {},
   "outputs": [],
   "source": []
  }
 ],
 "metadata": {
  "kernelspec": {
   "display_name": "Python 3",
   "language": "python",
   "name": "python3"
  },
  "language_info": {
   "codemirror_mode": {
    "name": "ipython",
    "version": 3
   },
   "file_extension": ".py",
   "mimetype": "text/x-python",
   "name": "python",
   "nbconvert_exporter": "python",
   "pygments_lexer": "ipython3",
   "version": "3.6.9"
  }
 },
 "nbformat": 4,
 "nbformat_minor": 4
}
