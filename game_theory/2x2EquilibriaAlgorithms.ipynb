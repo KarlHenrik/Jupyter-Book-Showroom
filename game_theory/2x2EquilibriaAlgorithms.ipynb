{
 "cells": [
  {
   "cell_type": "markdown",
   "metadata": {},
   "source": [
    "# 2x2 Game Equilibria Algorithms"
   ]
  },
  {
   "cell_type": "code",
   "execution_count": 1,
   "metadata": {},
   "outputs": [],
   "source": [
    "import numpy as np"
   ]
  },
  {
   "cell_type": "code",
   "execution_count": 165,
   "metadata": {},
   "outputs": [],
   "source": [
    "#Stag hunt - p.49\n",
    "a1 = 5; b1 = 0; c1 = 4; d1 = 2\n",
    "a2 = 5; b2 = 4; c2 = 0; d2 = 2\n",
    "\n",
    "P1 = np.array([[a1, b1],\n",
    "              [c1, d1]])\n",
    "\n",
    "P2 = np.array([[a2, b2],\n",
    "               [c2, d2]])"
   ]
  },
  {
   "cell_type": "markdown",
   "metadata": {},
   "source": [
    "## Pure strategy Algorithm"
   ]
  },
  {
   "cell_type": "markdown",
   "metadata": {},
   "source": [
    "In `pure` we tally up how many of the players have a certain square as their \"preferred outcome\"."
   ]
  },
  {
   "cell_type": "code",
   "execution_count": 166,
   "metadata": {},
   "outputs": [],
   "source": [
    "pure = np.array([[0, 0],\n",
    "                 [0, 0]])"
   ]
  },
  {
   "cell_type": "markdown",
   "metadata": {},
   "source": [
    "First, we check which row P1 prefers for each coice of column P2 makes."
   ]
  },
  {
   "cell_type": "code",
   "execution_count": 167,
   "metadata": {},
   "outputs": [],
   "source": [
    "for i in range(2):\n",
    "    col = P1[:,i]\n",
    "    if col[0] > col[1]:\n",
    "        pure[0,i] += 1\n",
    "    elif col[1] > col[0]:\n",
    "        pure[1,i] += 1\n",
    "    else:\n",
    "        pure[:,i] += 1"
   ]
  },
  {
   "cell_type": "markdown",
   "metadata": {},
   "source": [
    "Then, we check which column P2 prefers for each coice of row P2 makes."
   ]
  },
  {
   "cell_type": "code",
   "execution_count": 168,
   "metadata": {},
   "outputs": [],
   "source": [
    "for i in range(2):\n",
    "    row = P2[i,:]\n",
    "    if row[0] > row[1]:\n",
    "        pure[i,0] += 1\n",
    "    elif row[1] > row[0]:\n",
    "        pure[i,1] += 1\n",
    "    else:\n",
    "        pure[i,:] += 1"
   ]
  },
  {
   "cell_type": "markdown",
   "metadata": {},
   "source": [
    "Wherever we have the number 2 in `pure` we have a nash equilibrium."
   ]
  },
  {
   "cell_type": "code",
   "execution_count": 169,
   "metadata": {},
   "outputs": [
    {
     "name": "stdout",
     "output_type": "stream",
     "text": [
      "[[2 0]\n",
      " [0 2]]\n"
     ]
    }
   ],
   "source": [
    "print(pure)"
   ]
  },
  {
   "cell_type": "markdown",
   "metadata": {},
   "source": [
    "We can put the entire algorithm into a function."
   ]
  },
  {
   "cell_type": "code",
   "execution_count": 170,
   "metadata": {},
   "outputs": [],
   "source": [
    "def pureAlgo(P1, P2):\n",
    "    pure = np.array([[0, 0], [0, 0]])\n",
    "    for i in range(2):\n",
    "        col = P1[:,i]\n",
    "        if col[0] > col[1]:\n",
    "            pure[0,i] += 1\n",
    "        elif col[1] > col[0]:\n",
    "            pure[1,i] += 1\n",
    "        else:\n",
    "            pure[:,i] += 1\n",
    "    \n",
    "    for i in range(2):\n",
    "        row = P2[i,:]\n",
    "        if row[0] > row[1]:\n",
    "            pure[i,0] += 1\n",
    "        elif row[1] > row[0]:\n",
    "            pure[i,1] += 1\n",
    "        else:\n",
    "            pure[i,:] += 1\n",
    "    \n",
    "    return(pure)"
   ]
  },
  {
   "cell_type": "markdown",
   "metadata": {},
   "source": [
    "## Mixed stragety algorithm"
   ]
  },
  {
   "cell_type": "markdown",
   "metadata": {},
   "source": [
    "Finding a mixed strategy in a 2x2 game is more algebra than following a proper algorithm. The idea is to find what propability P1 must play row 1 and row 2 to make P2 indifferend between column 1 and column 2. And vice versa.\n",
    "\n",
    "We have a game matrix\n",
    "\n",
    "|       | Left | Right |\n",
    "| ----- | -------- |--------- |\n",
    "| Up | a1 / a2  |b1 / b2   |\n",
    "| Down | c1 / c2  |d1 / d2   |\n",
    "\n",
    "We want the expected utility of left $EU_L$ to be the same as the expected utility of right $EU_R$, so that P2 is indifferent between the two. The probability of P1 playing up $P_U$ that satisfies this constraint can be found by these three equations:\n",
    "\n",
    "$$\n",
    "\\begin{aligned}\n",
    "EU_L &= EU_R \\\\\n",
    "EU_L &= P_U a_2 + (1 - P_U) c_2 \\\\\n",
    "EU_R &= P_U b_2 + (1 - P_U) d_2\n",
    "\\end{aligned}\n",
    "$$\n",
    "\n",
    "Make sure you see how we found the expected utilities. We now get:\n",
    "\n",
    "This might look complicated, but you should be able to follow the steps if you remember the rules for solving simple equations like 6x + 6 = 20 - x\n",
    "\n",
    "$$\n",
    "\\begin{aligned}\n",
    "EU_L &= EU_R \\\\\n",
    "P_U  a_2 + (1 - P_U) c_2 &= P_U b_2 + (1 - P_U) d_2 \\\\\n",
    "P_U a_2 + c2 - P_U c2 &= P_U b_2 + d2 - P_U d_2 \\\\\n",
    "P_U a_2 - P_U c_2 - P_U b_2 + P_U d_2 &= -c2 + d_2 \\\\\n",
    "P_U (a_2 - b_2 - c_2 + d_2) &= -c_2 + d_2 \\\\\n",
    "P_U &= \\frac{-c_2 + d_2}{a_2 - b_2 - c_2 + d_2}\n",
    "\\end{aligned}\n",
    "$$"
   ]
  },
  {
   "cell_type": "markdown",
   "metadata": {},
   "source": [
    "We now have an expression that gives us the probability of playing up in the mixed strategy that makes P2 indifferent between playing left and right. The probability of playing down is of course $1 - P_U$. The probability of playing left and right that makes P1 indifferent between playing up and down can be found with the same method. You should try it to make sure you understood the steps.\n",
    "\n",
    "When P1 and P2 both play these strategies they are both indifferent between their choices, meaning they have no incentive to change their strategy, and they are playing a nash equilibrium!\n",
    "\n",
    "We can put the expressions for $P_U$ and $P_L$ into a function for finding the mixed stragety."
   ]
  },
  {
   "cell_type": "code",
   "execution_count": 171,
   "metadata": {},
   "outputs": [],
   "source": [
    "def mixedAlgo(P1, P2):\n",
    "    #Unpacking the matrixes\n",
    "    a1 = P1[0,0]; b1 = P1[0,1]; c1 = P1[1,0]; d1 = P1[1,1]\n",
    "    a2 = P2[0,0]; b2 = P2[0,1]; c2 = P2[1,0]; d2 = P2[1,1]\n",
    "    \n",
    "    if (a2 - b2 - c2 + d2) == 0 or (a1 - b1 - c1 + d1) == 0: #Zero division check\n",
    "        return\n",
    "    \n",
    "    row1 = (-c2 + d2) / (a2 - b2 - c2 + d2)\n",
    "    col1 = (-b1 + d1) / (a1 - b1 - c1 + d1)\n",
    "    return [row1, 1 - row1] , [col1, 1 - col1]"
   ]
  },
  {
   "cell_type": "markdown",
   "metadata": {},
   "source": [
    "We can test it on the stag hunt from before:"
   ]
  },
  {
   "cell_type": "code",
   "execution_count": 172,
   "metadata": {},
   "outputs": [
    {
     "name": "stdout",
     "output_type": "stream",
     "text": [
      "([0.6666666666666666, 0.33333333333333337], [0.6666666666666666, 0.33333333333333337])\n"
     ]
    }
   ],
   "source": [
    "print(mixedAlgo(P1, P2))"
   ]
  },
  {
   "cell_type": "markdown",
   "metadata": {},
   "source": [
    "The mixed strategy equilibrium for the stag hunt is for P1 to play row 1 2/3 of the time, and for P2 to play column 1 2/3 of the time."
   ]
  },
  {
   "cell_type": "markdown",
   "metadata": {},
   "source": [
    "### Limitations of the mixed strategy algorithm"
   ]
  },
  {
   "cell_type": "markdown",
   "metadata": {},
   "source": [
    "If the mixed strategy contains probabilities above 1 or below 0 you must discard it. You must also make sure you do not divide by zero inside the algorithm, as that will produce an error. If you would divide by zero, there is no mixed equilibria. This algorithm does not find eqilibria where one player plays a pure strategy and another plays a mixed strategy. If two cells in the same row or the same column are pure strategy nash equilibria, they also form an infinite number of mixed strategy nash equilibra, since one player can play only that row(or column) while the other player mixes between the two pure strategies that are parth of the equilibria."
   ]
  },
  {
   "cell_type": "code",
   "execution_count": null,
   "metadata": {},
   "outputs": [],
   "source": []
  }
 ],
 "metadata": {
  "kernelspec": {
   "display_name": "Python 3",
   "language": "python",
   "name": "python3"
  },
  "language_info": {
   "codemirror_mode": {
    "name": "ipython",
    "version": 3
   },
   "file_extension": ".py",
   "mimetype": "text/x-python",
   "name": "python",
   "nbconvert_exporter": "python",
   "pygments_lexer": "ipython3",
   "version": "3.6.9"
  }
 },
 "nbformat": 4,
 "nbformat_minor": 4
}
