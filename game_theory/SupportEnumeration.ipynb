{
 "cells": [
  {
   "cell_type": "markdown",
   "metadata": {},
   "source": [
    "# Support Enumeration Algorithm"
   ]
  },
  {
   "cell_type": "markdown",
   "metadata": {},
   "source": [
    "This algorithm finds all equilibria for any non-degenerate game matrix. It works by trying out every combination of mixed equilibria contatining the same number of rows and columns. The possible equilibria are tested by solving the corresponding system of equations and seeing if the solution gives positive weights to the rows and columns, and seeing if the equilibria contains the \"optimal\" choices for each player.\n",
    "\n",
    "It is a generalization of the way we found mixed strategies for 2x2 game matrixes."
   ]
  },
  {
   "cell_type": "code",
   "execution_count": 2,
   "metadata": {},
   "outputs": [],
   "source": [
    "import numpy as np\n",
    "import matplotlib.pyplot as plt\n",
    "import nashpy as nash\n",
    "import itertools"
   ]
  },
  {
   "cell_type": "markdown",
   "metadata": {},
   "source": [
    "### The implementation"
   ]
  },
  {
   "cell_type": "code",
   "execution_count": 3,
   "metadata": {},
   "outputs": [],
   "source": [
    "def supportEnumeration(P1, P2):\n",
    "    m = P1[:,0].size #number of rows\n",
    "    n = P1[0,:].size #number of columns\n",
    "    # Rows - col1, col2, osv.\n",
    "    for k in range(1, max(m,n) + 1):\n",
    "        #The possible combinations of rows and colums. i.e. rows 1,3,4 and cols 2,3,6\n",
    "        combinationsRows = list(itertools.combinations([i for i in range(m)], k))\n",
    "        combinationsColumns = list(itertools.combinations([i for i in range(n)], k))\n",
    "        for combiCol in combinationsColumns: #Iterates over combinations of columns\n",
    "            for combiRow in combinationsRows: #Iterates over combinations of rows\n",
    "                \n",
    "                #-----Finding the weights the rows must have to make the selected columns of equal fitness to player 2----------\n",
    "                cols = [P2[j] for j in combiCol] #The columns we are making P2 choose between\n",
    "                A = []\n",
    "                for i in combiRow:\n",
    "                    eq = [cols[j][i] for j in range(k)] #Equation finding the weights that makes these columns the same fitness\n",
    "                    eq = eq + [-1] #Adding -1 at the end of the equation to represent the fitness\n",
    "                    A.append(eq) #Adding the equation to our set of equations\n",
    "                A.append([1 for i in range(k)] + [0]) #The final equation makes all the weights add to 1\n",
    "                A = np.array(A)\n",
    "                b = np.array([0 for i in range(k)] + [1]) #The right side of our equations. They are all 0, except for the sum of the weights which is 1\n",
    "                try:\n",
    "                    rowSolution = np.linalg.solve(A, b)\n",
    "                except np.linalg.LinAlgError:\n",
    "                    continue #Skips to next rows/colums combination if there is not solution\n",
    "                \n",
    "                colPayoff = rowSolution[-1]\n",
    "                rowWeight = [0] * n\n",
    "                i = 0\n",
    "                for j in combiCol:\n",
    "                    rowWeight[j] = rowSolution[i]\n",
    "                    i += 1\n",
    "    \n",
    "                #-----Finding the weights the columns must have to make the selected rows of equal fitness to player 1----------\n",
    "                rows = [P1[:,j] for j in combiRow]\n",
    "                C = []\n",
    "                for i in combiCol:\n",
    "                    eq = [rows[j][i] for j in range(k)]\n",
    "                    eq = eq + [-1]\n",
    "                    C.append(eq)\n",
    "                C.append([1 for i in range(k)] + [0])\n",
    "                C = np.array(C)\n",
    "                d = np.array([0 for i in range(k)] + [1])\n",
    "                try:\n",
    "                    colSolution = np.linalg.solve(C, d)\n",
    "                except np.linalg.LinAlgError:\n",
    "                    continue\n",
    "                \n",
    "                rowPayoff = colSolution[-1]\n",
    "                colWeight = [0] * n\n",
    "                i = 0\n",
    "                for j in combiRow:\n",
    "                    colWeight[j] = colSolution[i]\n",
    "                    i += 1\n",
    "                #------The solution is not valid if the weights are negative or if a non-selected strategy has a higher payoff-------\n",
    "                valid = True\n",
    "                for weight in rowWeight:\n",
    "                    if weight + 1e-9 < 0:\n",
    "                        valid = False\n",
    "                for weight in colWeight:\n",
    "                    if weight + 1e-9 < 0:\n",
    "                        valid = False\n",
    "                for payoff in rowWeight @ P2:\n",
    "                    if payoff > colPayoff + 1e-9:\n",
    "                        valid = False\n",
    "                for payoff in P1 @ colWeight:\n",
    "                    if payoff > rowPayoff + 1e-9:\n",
    "                        valid = False\n",
    "                \n",
    "                if valid:\n",
    "                    print(f\"P1:{rowWeight} - {rowPayoff}\\nP2:{colWeight} - {colPayoff}\\n\")"
   ]
  },
  {
   "cell_type": "markdown",
   "metadata": {},
   "source": [
    "### Testing"
   ]
  },
  {
   "cell_type": "code",
   "execution_count": 4,
   "metadata": {},
   "outputs": [],
   "source": [
    "P1 = np.array([[2, 6, 5],\n",
    "               [4, -1, -3],\n",
    "               [2, 2, 5]])\n",
    "\n",
    "P2 = np.array([[2, 4, 2],\n",
    "               [0, -1, 2],\n",
    "               [5, -3, 2]])"
   ]
  },
  {
   "cell_type": "code",
   "execution_count": 5,
   "metadata": {},
   "outputs": [
    {
     "name": "stdout",
     "output_type": "stream",
     "text": [
      "P1:[1.0, 0, 0] - 6.0\n",
      "P2:[0, 1.0, 0] - 4.0\n",
      "\n",
      "P1:[0, 0.6, 0.4] - 2.6\n",
      "P2:[0.8, 0, 0.2] - 2.0\n",
      "\n",
      "P1:[0.6551724137931034, 0.20689655172413796, 0.13793103448275862] - 2.6\n",
      "P2:[0.8, -4.270088556250602e-18, 0.2] - 2.0\n",
      "\n"
     ]
    }
   ],
   "source": [
    "supportEnumeration(P1, P2)"
   ]
  },
  {
   "cell_type": "markdown",
   "metadata": {},
   "source": [
    "We can compare with the implementation of support enumeration and vertex enumeration from nashpy. Surprisingly, nashpy fails to find all equilibria with its implementation of support enumeration."
   ]
  },
  {
   "cell_type": "code",
   "execution_count": 6,
   "metadata": {},
   "outputs": [
    {
     "name": "stdout",
     "output_type": "stream",
     "text": [
      "Bi matrix game with payoff matrices:\n",
      "\n",
      "Row player:\n",
      "[[ 2  6  5]\n",
      " [ 4 -1 -3]\n",
      " [ 2  2  5]]\n",
      "\n",
      "Column player:\n",
      "[[ 2  4  2]\n",
      " [ 0 -1  2]\n",
      " [ 5 -3  2]]\n",
      "(array([1., 0., 0.]), array([0., 1., 0.]))\n"
     ]
    }
   ],
   "source": [
    "rps = nash.Game(P1, P2)\n",
    "print(rps)\n",
    "eqs = rps.support_enumeration()\n",
    "for equ in eqs:\n",
    "    print(equ)"
   ]
  },
  {
   "cell_type": "code",
   "execution_count": 7,
   "metadata": {},
   "outputs": [
    {
     "name": "stdout",
     "output_type": "stream",
     "text": [
      "(array([3.46944695e-17, 6.00000000e-01, 4.00000000e-01]), array([0.8, 0. , 0.2]))\n",
      "(array([ 1.00000000e+00, -4.85722573e-17,  4.85722573e-17]), array([ 0.00000000e+00,  1.00000000e+00, -3.12250226e-17]))\n",
      "(array([0.65517241, 0.20689655, 0.13793103]), array([0.8, 0. , 0.2]))\n"
     ]
    }
   ],
   "source": [
    "eqs = rps.vertex_enumeration()\n",
    "for equ in eqs:\n",
    "    print(equ)"
   ]
  },
  {
   "cell_type": "code",
   "execution_count": 8,
   "metadata": {},
   "outputs": [
    {
     "name": "stdout",
     "output_type": "stream",
     "text": [
      "P1:[1.0, 0] - 5.0\n",
      "P2:[1.0, 0] - 5.0\n",
      "\n",
      "P1:[0, 1.0] - 2.0\n",
      "P2:[0, 1.0] - 2.0\n",
      "\n",
      "P1:[0.6666666666666667, 0.33333333333333326] - 3.3333333333333335\n",
      "P2:[0.6666666666666667, 0.33333333333333326] - 3.3333333333333335\n",
      "\n"
     ]
    }
   ],
   "source": [
    "#Stag hunt - p.49\n",
    "a1 = 5; b1 = 0; c1 = 4; d1 = 2\n",
    "a2 = 5; b2 = 4; c2 = 0; d2 = 2\n",
    "\n",
    "P1 = np.array([[a1, b1],\n",
    "               [c1, d1]])\n",
    "\n",
    "P2 = np.array([[a2, b2],\n",
    "               [c2, d2]])\n",
    "\n",
    "supportEnumeration(P1, P2)"
   ]
  },
  {
   "cell_type": "code",
   "execution_count": null,
   "metadata": {},
   "outputs": [],
   "source": []
  }
 ],
 "metadata": {
  "kernelspec": {
   "display_name": "Python 3",
   "language": "python",
   "name": "python3"
  },
  "language_info": {
   "codemirror_mode": {
    "name": "ipython",
    "version": 3
   },
   "file_extension": ".py",
   "mimetype": "text/x-python",
   "name": "python",
   "nbconvert_exporter": "python",
   "pygments_lexer": "ipython3",
   "version": "3.6.9"
  }
 },
 "nbformat": 4,
 "nbformat_minor": 4
}
