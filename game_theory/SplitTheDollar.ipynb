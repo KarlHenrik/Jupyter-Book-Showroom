{
 "cells": [
  {
   "cell_type": "code",
   "execution_count": 75,
   "metadata": {},
   "outputs": [],
   "source": [
    "from random import randint\n",
    "import numpy as np\n",
    "import matplotlib.pyplot as plt"
   ]
  },
  {
   "cell_type": "code",
   "execution_count": 109,
   "metadata": {},
   "outputs": [
    {
     "data": {
      "image/png": "[encoded data removed]",
      "text/plain": [
       "<Figure size 432x288 with 1 Axes>"
      ]
     },
     "metadata": {
      "needs_background": "light"
     },
     "output_type": "display_data"
    }
   ],
   "source": [
    "#9 random numbers that sum to 1\n",
    "population = np.array([randint(1,100) for i in range(9)])\n",
    "population = population / sum(population)\n",
    "\n",
    "payoffs = [0] * 9\n",
    "dt = 0.01\n",
    "\n",
    "#Finding payoffs\n",
    "for k in range(100):\n",
    "    average = 0\n",
    "    for i in range(9):\n",
    "        payoffs[i] = 0\n",
    "        for j in range(9):\n",
    "            if i + j + 2 <= 10: #Adding 2 because strategy i is asking for i + 1 kroners\n",
    "                payoffs[i] += i + 1\n",
    "\n",
    "        average += population[i] * payoffs[i]\n",
    "\n",
    "    #Finding new proportions of strategies in the population\n",
    "    for i in range(9):\n",
    "        population[i] += population[i] * (payoffs[i] - average) * dt\n",
    "        \n",
    "plt.bar(range(1,10), population)\n",
    "plt.show()"
   ]
  },
  {
   "cell_type": "code",
   "execution_count": null,
   "metadata": {},
   "outputs": [],
   "source": []
  }
 ],
 "metadata": {
  "kernelspec": {
   "display_name": "Python 3",
   "language": "python",
   "name": "python3"
  },
  "language_info": {
   "codemirror_mode": {
    "name": "ipython",
    "version": 3
   },
   "file_extension": ".py",
   "mimetype": "text/x-python",
   "name": "python",
   "nbconvert_exporter": "python",
   "pygments_lexer": "ipython3",
   "version": "3.6.9"
  }
 },
 "nbformat": 4,
 "nbformat_minor": 4
}
