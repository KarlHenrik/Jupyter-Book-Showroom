{
 "cells": [
  {
   "cell_type": "markdown",
   "metadata": {},
   "source": [
    "# 2x2 Game Pareto Efficiency Algorithm"
   ]
  },
  {
   "cell_type": "code",
   "execution_count": 5,
   "metadata": {},
   "outputs": [],
   "source": [
    "import numpy as np"
   ]
  },
  {
   "cell_type": "code",
   "execution_count": 20,
   "metadata": {},
   "outputs": [],
   "source": [
    "#Prisoners Dilemma(gangster version) - p.18\n",
    "a1 = -9; b1 = 0; c1 = -10; d1 = -1\n",
    "a2 = -9; b2 = -10; c2 = 0; d2 = -1\n",
    "\n",
    "P1 = np.array([[a1, b1],\n",
    "              [c1, d1]])\n",
    "\n",
    "P2 = np.array([[a2, b2],\n",
    "               [c2, d2]])"
   ]
  },
  {
   "cell_type": "markdown",
   "metadata": {},
   "source": [
    "## Pure strategy Algorithm"
   ]
  },
  {
   "cell_type": "markdown",
   "metadata": {},
   "source": [
    "In `pareto` we keep track of which squares are pareto efficient."
   ]
  },
  {
   "cell_type": "code",
   "execution_count": 21,
   "metadata": {},
   "outputs": [],
   "source": [
    "pareto = np.array([[1, 1],\n",
    "                   [1, 1]])"
   ]
  },
  {
   "cell_type": "markdown",
   "metadata": {},
   "source": [
    "We see for each square if there is a square where both players are better off. If not, we don't change the corresponding element in `pareto`."
   ]
  },
  {
   "cell_type": "code",
   "execution_count": 22,
   "metadata": {},
   "outputs": [],
   "source": [
    "for row in range(2):\n",
    "    for col in range(2):\n",
    "        p1p = P1[row, col]\n",
    "        p2p = P2[row, col]\n",
    "        \n",
    "        for row2 in range(2):\n",
    "            for col2 in range(2):\n",
    "                if P1[row2, col2] > p1p and P2[row2, col2] > p2p:\n",
    "                    pareto[row, col] = 0"
   ]
  },
  {
   "cell_type": "markdown",
   "metadata": {},
   "source": [
    "Wherever we have the number 2 in `pure` we have a nash equilibrium."
   ]
  },
  {
   "cell_type": "code",
   "execution_count": 23,
   "metadata": {},
   "outputs": [
    {
     "name": "stdout",
     "output_type": "stream",
     "text": [
      "[[0 1]\n",
      " [1 1]]\n"
     ]
    }
   ],
   "source": [
    "print(pareto)"
   ]
  },
  {
   "cell_type": "markdown",
   "metadata": {},
   "source": [
    "It works! The only square that was no pareto efficient was the nash equilibrium."
   ]
  },
  {
   "cell_type": "code",
   "execution_count": null,
   "metadata": {},
   "outputs": [],
   "source": []
  }
 ],
 "metadata": {
  "kernelspec": {
   "display_name": "Python 3",
   "language": "python",
   "name": "python3"
  },
  "language_info": {
   "codemirror_mode": {
    "name": "ipython",
    "version": 3
   },
   "file_extension": ".py",
   "mimetype": "text/x-python",
   "name": "python",
   "nbconvert_exporter": "python",
   "pygments_lexer": "ipython3",
   "version": "3.6.9"
  }
 },
 "nbformat": 4,
 "nbformat_minor": 4
}
