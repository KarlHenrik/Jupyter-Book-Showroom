{
 "cells": [
  {
   "cell_type": "code",
   "execution_count": 9,
   "metadata": {},
   "outputs": [],
   "source": [
    "import numpy as np\n",
    "import matplotlib.pyplot as plt"
   ]
  },
  {
   "cell_type": "markdown",
   "metadata": {},
   "source": [
    "## Replicator dynamics on symmetrical 2x2 games"
   ]
  },
  {
   "cell_type": "code",
   "execution_count": 14,
   "metadata": {},
   "outputs": [],
   "source": [
    "#    Row-  and   Col   payout matrix\n",
    "# | a | b |   | a | c |                     \n",
    "# | c | d |   | b | d |\n",
    "\n",
    "#Chicken - p.11\n",
    "a1 = 2; b1 = 0\n",
    "c1 = 4; d1 = -1\n",
    "\n",
    "a2 = 2; b2 = 4\n",
    "c2 = 0; d2 = -1\n",
    "\n",
    "#Symmetrical representation\n",
    "a = a1; b = b1; c = c1; d = d1\n",
    "\n",
    "row1 = 0.11 # proportion of population playing row 1\n",
    "row2 = 1 - row1\n",
    "\n",
    "dt = 0.1\n",
    "\n",
    "row1list = [row1]\n",
    "row2list = [row2]"
   ]
  },
  {
   "cell_type": "code",
   "execution_count": 15,
   "metadata": {},
   "outputs": [
    {
     "name": "stdout",
     "output_type": "stream",
     "text": [
      "[0.333, 0.667]\n"
     ]
    }
   ],
   "source": [
    "for i in range(1000):\n",
    "    frow1 = row1 * a + row2 * b # fitness of playing row 1\n",
    "    frow2 = row1 * c + row2 * d # fitness of playing row 2\n",
    "    avg = row1 * frow1 + row2 * frow2 # average fitness\n",
    "    \n",
    "    row1 = row1 + row1 * (frow1 - avg) * dt\n",
    "    row2 = row2 + row2 * (frow2 - avg) * dt\n",
    "    \n",
    "    row1list.append(row1)\n",
    "    row2list.append(row2)\n",
    "    \n",
    "print(f\"[{row1:0.3f}, {row2:0.3f}]\")"
   ]
  },
  {
   "cell_type": "code",
   "execution_count": 16,
   "metadata": {},
   "outputs": [
    {
     "data": {
      "image/png": "[encoded data removed]",
      "text/plain": [
       "<Figure size 432x288 with 1 Axes>"
      ]
     },
     "metadata": {
      "needs_background": "light"
     },
     "output_type": "display_data"
    }
   ],
   "source": [
    "plt.plot(row1list, label=\"Row 1\")\n",
    "plt.plot(row2list, label=\"Row 2\")\n",
    "plt.ylim(0, 1)\n",
    "plt.grid()\n",
    "plt.legend()\n",
    "plt.show()"
   ]
  },
  {
   "cell_type": "code",
   "execution_count": 17,
   "metadata": {},
   "outputs": [
    {
     "data": {
      "image/png": "[encoded data removed]",
      "text/plain": [
       "<Figure size 432x288 with 1 Axes>"
      ]
     },
     "metadata": {
      "needs_background": "light"
     },
     "output_type": "display_data"
    }
   ],
   "source": [
    "plt.plot(row1list, row2list)\n",
    "plt.plot(row1list[-1], row2list[-1], \"bo\")\n",
    "plt.xlabel(\"Proportion Row 1\")\n",
    "plt.ylabel(\"Proportion Row 2\")\n",
    "plt.xlim(-0.05, 1.05)\n",
    "plt.ylim(-0.05, 1.05)\n",
    "plt.show()"
   ]
  },
  {
   "cell_type": "code",
   "execution_count": null,
   "metadata": {},
   "outputs": [],
   "source": []
  }
 ],
 "metadata": {
  "kernelspec": {
   "display_name": "Python 3",
   "language": "python",
   "name": "python3"
  },
  "language_info": {
   "codemirror_mode": {
    "name": "ipython",
    "version": 3
   },
   "file_extension": ".py",
   "mimetype": "text/x-python",
   "name": "python",
   "nbconvert_exporter": "python",
   "pygments_lexer": "ipython3",
   "version": "3.6.9"
  }
 },
 "nbformat": 4,
 "nbformat_minor": 4
}
