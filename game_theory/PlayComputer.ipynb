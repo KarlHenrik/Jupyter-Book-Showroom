{
 "cells": [
  {
   "cell_type": "code",
   "execution_count": 1,
   "metadata": {},
   "outputs": [],
   "source": [
    "import numpy as np\n",
    "import matplotlib.pyplot as plt"
   ]
  },
  {
   "cell_type": "code",
   "execution_count": 17,
   "metadata": {},
   "outputs": [],
   "source": [
    "#Chicken - p.126\n",
    "a1 = 2; b1 = 0; c1 = 4; d1 = -1\n",
    "a2 = 2; b2 = 4; c2 = 0; d2 = -1\n",
    "\n",
    "P1 = np.array([[a1, b1],\n",
    "               [c1, d1]])\n",
    "\n",
    "P2 = np.array([[a2, b2],\n",
    "               [c2, d2]])\n",
    "\n",
    "s1 = np.array([1, 0])\n",
    "s2 = np.array([0, 1])"
   ]
  },
  {
   "cell_type": "code",
   "execution_count": 18,
   "metadata": {},
   "outputs": [],
   "source": [
    "def payoff(player, p1s, p2s):\n",
    "    if player == 1:\n",
    "        if p1s is s1:\n",
    "            payoff = p2s[0] * a1 + p2s[1] * b1\n",
    "        else:\n",
    "            payoff = p2s[0] * c1 + p2s[1] * d1\n",
    "    else:\n",
    "        if p2s is s1:\n",
    "            payoff = p1s[0] * a2 + p1s[1] * c2\n",
    "        else:\n",
    "            payoff = p1s[0] * b2 + p1s[1] * d2\n",
    "    return payoff"
   ]
  },
  {
   "cell_type": "code",
   "execution_count": 22,
   "metadata": {},
   "outputs": [
    {
     "name": "stdin",
     "output_type": "stream",
     "text": [
      "What will you play? [Row1: 1] / [Row2: 2] / [Stop: s]:  s\n"
     ]
    },
    {
     "name": "stdout",
     "output_type": "stream",
     "text": [
      "Stopping game\n"
     ]
    }
   ],
   "source": [
    "p2s = s1\n",
    "p1hist = np.array([0, 0])\n",
    "p1tot = 0\n",
    "p2tot = 0\n",
    "\n",
    "for i in range(100):\n",
    "    strat = input(\"What will you play? [Row1: 1] / [Row2: 2] / [Stop: s]: \")\n",
    "    if strat == \"s\":\n",
    "        print(\"Stopping game\")\n",
    "        break\n",
    "    \n",
    "    if strat == \"1\":\n",
    "        p1s = s1\n",
    "    else:\n",
    "        p1s = s2\n",
    "    p1hist += p1s\n",
    "    \n",
    "    p2payoff1 = payoff(2, p1hist, s1) #comparing s1 and s2 for p2\n",
    "    p2payoff2 = payoff(2, p1hist, s2)\n",
    "    if p2payoff1 > p2payoff2:\n",
    "        p2s = s1\n",
    "    else:\n",
    "        p2s = s2\n",
    "    \n",
    "    #Keeping score and printing\n",
    "    p1payoff = payoff(1, p1s, p2s)\n",
    "    p1tot += p1payoff\n",
    "    \n",
    "    p2payoff = payoff(2, p1s, p2s)\n",
    "    p2tot += p2payoff\n",
    "    \n",
    "    print(f\"P1 payoff: {p1payoff}. Total: {p1tot}\")\n",
    "    print(f\"P2 payoff: {p2payoff}. Total: {p2tot}\")"
   ]
  },
  {
   "cell_type": "code",
   "execution_count": null,
   "metadata": {},
   "outputs": [],
   "source": []
  }
 ],
 "metadata": {
  "kernelspec": {
   "display_name": "Python 3",
   "language": "python",
   "name": "python3"
  },
  "language_info": {
   "codemirror_mode": {
    "name": "ipython",
    "version": 3
   },
   "file_extension": ".py",
   "mimetype": "text/x-python",
   "name": "python",
   "nbconvert_exporter": "python",
   "pygments_lexer": "ipython3",
   "version": "3.6.9"
  }
 },
 "nbformat": 4,
 "nbformat_minor": 4
}
