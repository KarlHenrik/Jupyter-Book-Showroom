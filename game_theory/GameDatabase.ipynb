{
 "cells": [
  {
   "cell_type": "markdown",
   "metadata": {},
   "source": [
    "# Game Database"
   ]
  },
  {
   "cell_type": "code",
   "execution_count": 1,
   "metadata": {},
   "outputs": [],
   "source": [
    "import numpy as np\n",
    "import matplotlib.pyplot as plt"
   ]
  },
  {
   "cell_type": "markdown",
   "metadata": {},
   "source": [
    "A collection of all the game matrixes in the book, in a format which may or may not last."
   ]
  },
  {
   "cell_type": "code",
   "execution_count": 4,
   "metadata": {},
   "outputs": [],
   "source": [
    "#     Row    and   Column    payout matrix\n",
    "# | a1 | b1 |   | a2 | b2 |\n",
    "# | c1 | d1 |   | c2 | d2 |\n",
    "\n",
    "#Matching pennies p.10\n",
    "a1 = 1; b1 = -1; c1 = -1; d1 = 1\n",
    "a2 = -1; b2 = 1; c2 = 1; d2 = -1\n",
    "#Driving game p.10\n",
    "a1 = 1; b1 = -1; c1 = -1; d1 = 1\n",
    "a2 = 1; b2 = -1; c2 = -1; d2 = 1\n",
    "#Chicken - p.11\n",
    "a1 = 2; b1 = 0; c1 = 4; d1 = -1\n",
    "a2 = 2; b2 = 4; c2 = 0; d2 = -1\n",
    "#Battle of the sexes - p.11\n",
    "a1 = 1; b1 = 0; c1 = 0; d1 = 2\n",
    "a2 = 2; b2 = 0; c2 = 0; d2 = 1\n",
    "#Prisoners Dilemma(gangster version) - p.18\n",
    "a1 = -9; b1 = 0; c1 = -10; d1 = -1\n",
    "a2 = -9; b2 = -10; c2 = 0; d2 = -1\n",
    "#Prisoners Dilemma(give-or-take version) - p.18\n",
    "a1 = 2; b1 = 0; c1 = 3; d1 = 1\n",
    "a2 = 2; b2 = 3; c2 = 0; d2 = 1\n",
    "#Kidnap - p.44\n",
    "a1 = 1; b1 = 1; c1 = 2; d1 = 0\n",
    "a2 = 0; b2 = 0; c2 = 1; d2 = 2\n",
    "#Cosy Kidnap - p.46\n",
    "a1 = 1; b1 = 1; c1 = 2; d1 = 0\n",
    "a2 = 0; b2 = 0; c2 = 2; d2 = 1\n",
    "#Ultimatum game - p.49\n",
    "a1 = 2; b1 = 2; c1 = 3; d1 = 0\n",
    "a2 = 2; b2 = 2; c2 = 1; d2 = 0\n",
    "#Stag hunt - p.49\n",
    "a1 = 5; b1 = 0; c1 = 4; d1 = 2\n",
    "a2 = 5; b2 = 4; c2 = 0; d2 = 2\n",
    "#Infinitely many equilibra, weakly dominated strategy\n",
    "a1 = 3; b1 = 12; c1 = 3; d1 = 2\n",
    "a2 = 1; b2 = 0; c2 = -2; d2 = -5\n",
    "\n",
    "\n",
    "P1 = np.array([[a1, b1],\n",
    "               [c1, d1]])\n",
    "\n",
    "P2 = np.array([[a2, b2],\n",
    "               [c2, d2]])"
   ]
  },
  {
   "cell_type": "markdown",
   "metadata": {},
   "source": [
    "Alternate format to look more like a matrix, functionally exactly the same"
   ]
  },
  {
   "cell_type": "code",
   "execution_count": 10,
   "metadata": {},
   "outputs": [],
   "source": [
    "#Battle of the sexes - p.11\n",
    "a1 = 1; b1 = 0\n",
    "c1 = 0; d1 = 2\n",
    "\n",
    "a2 = 2; b2 = 0\n",
    "c2 = 0; d2 = 1"
   ]
  },
  {
   "cell_type": "markdown",
   "metadata": {},
   "source": [
    "Unpacking of P1 and P2"
   ]
  },
  {
   "cell_type": "code",
   "execution_count": 12,
   "metadata": {},
   "outputs": [],
   "source": [
    "a1 = P1[0,0]; b1 = P1[0,1]; c1 = P1[1,0]; d1 = P1[1,1]\n",
    "a2 = P2[0,0]; b2 = P2[0,1]; c2 = P2[1,0]; d2 = P2[1,1]"
   ]
  },
  {
   "cell_type": "markdown",
   "metadata": {},
   "source": [
    "Alternate format. Again functionally exactly the same."
   ]
  },
  {
   "cell_type": "code",
   "execution_count": null,
   "metadata": {},
   "outputs": [],
   "source": [
    "a1 = P1[0,0]; b1 = P1[0,1]\n",
    "c1 = P1[1,0]; d1 = P1[1,1]\n",
    "\n",
    "a2 = P2[0,0]; b2 = P2[0,1]\n",
    "c2 = P2[1,0]; d2 = P2[1,1]"
   ]
  }
 ],
 "metadata": {
  "kernelspec": {
   "display_name": "Python 3",
   "language": "python",
   "name": "python3"
  },
  "language_info": {
   "codemirror_mode": {
    "name": "ipython",
    "version": 3
   },
   "file_extension": ".py",
   "mimetype": "text/x-python",
   "name": "python",
   "nbconvert_exporter": "python",
   "pygments_lexer": "ipython3",
   "version": "3.6.9"
  }
 },
 "nbformat": 4,
 "nbformat_minor": 4
}
