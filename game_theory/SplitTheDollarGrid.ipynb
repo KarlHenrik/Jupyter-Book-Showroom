{
 "cells": [
  {
   "cell_type": "code",
   "execution_count": 1,
   "metadata": {},
   "outputs": [],
   "source": [
    "import numpy as np\n",
    "import matplotlib.pyplot as plt"
   ]
  },
  {
   "cell_type": "code",
   "execution_count": 19,
   "metadata": {},
   "outputs": [],
   "source": [
    "N = 50\n",
    "strategies = np.random.randint(11, size=(N, N))\n",
    "strategies[strategies == 5] = 6"
   ]
  },
  {
   "cell_type": "code",
   "execution_count": 3,
   "metadata": {},
   "outputs": [],
   "source": [
    "def payoff(s1, s2):\n",
    "    if s1 + s2 <= 10:\n",
    "        return s1\n",
    "    else:\n",
    "        return 0\n",
    "\n",
    "def allpayoffs(strategies):\n",
    "    payoffs = np.zeros((N, N))\n",
    "    \n",
    "    for row in range(N):\n",
    "        for col in range(N):\n",
    "            s1 = strategies[row, col]\n",
    "            pay = 0\n",
    "            if row != 0:\n",
    "                pay += payoff(s1, strategies[row-1, col]) #Up\n",
    "            if row != N-1:\n",
    "                pay += payoff(s1, strategies[row+1, col]) #Down\n",
    "            if col != 0:\n",
    "                pay += payoff(s1, strategies[row, col-1]) #Left\n",
    "            if col != N-1:\n",
    "                pay += payoff(s1, strategies[row, col+1]) #Right\n",
    "\n",
    "            payoffs[row, col] = pay\n",
    "    return payoffs"
   ]
  },
  {
   "cell_type": "code",
   "execution_count": 4,
   "metadata": {},
   "outputs": [],
   "source": [
    "def allNewStrats(strategies, payoffs):\n",
    "    newStrats = np.zeros((N, N))\n",
    "    \n",
    "    for row in range(N):\n",
    "        for col in range(N):\n",
    "            pay = payoffs[row, col]\n",
    "            strat = strategies[row, col]\n",
    "\n",
    "            if row != 0:\n",
    "                if payoffs[row-1, col] > pay:\n",
    "                    strat = strategies[row-1, col]\n",
    "                    pay = payoffs[row-1, col]\n",
    "            if row != N-1:\n",
    "                if payoffs[row+1, col] > pay:\n",
    "                    strat = strategies[row+1, col]\n",
    "                    pay = payoffs[row+1, col]\n",
    "            if col != 0:\n",
    "                if payoffs[row, col-1] > pay:\n",
    "                    strat = strategies[row, col-1]\n",
    "                    pay = payoffs[row, col-1]\n",
    "            if col != N-1:\n",
    "                if payoffs[row, col+1] > pay:\n",
    "                    strat = strategies[row, col+1]\n",
    "                    pay = payoffs[row, col+1]\n",
    "\n",
    "            newStrats[row, col] = strat\n",
    "            \n",
    "    return newStrats"
   ]
  },
  {
   "cell_type": "code",
   "execution_count": 47,
   "metadata": {},
   "outputs": [
    {
     "data": {
      "image/png": "[encoded data removed]",
      "text/plain": [
       "<Figure size 1440x1152 with 4 Axes>"
      ]
     },
     "metadata": {
      "needs_background": "light"
     },
     "output_type": "display_data"
    }
   ],
   "source": [
    "payoffs = allpayoffs(strategies)\n",
    "\n",
    "cmap = plt.get_cmap(\"Set3\", 11)\n",
    "\n",
    "plt.figure(figsize=(20, 16))    \n",
    "plt.subplot(221)\n",
    "im1 = plt.imshow(strategies, cmap=cmap, vmin = -0.5, vmax = 10.5)\n",
    "plt.colorbar(ticks=np.arange(0,11))\n",
    "\n",
    "plt.subplot(222)\n",
    "im2 = plt.imshow(payoffs)\n",
    "plt.colorbar()\n",
    "plt.show()\n",
    "\n",
    "strategies = allNewStrats(strategies, payoffs)"
   ]
  },
  {
   "cell_type": "code",
   "execution_count": 6,
   "metadata": {},
   "outputs": [],
   "source": [
    "strategies[0, 0] = 5\n",
    "strategies[0, 1] = 5\n",
    "strategies[1, 0] = 5\n",
    "strategies[1, 1] = 5"
   ]
  },
  {
   "cell_type": "code",
   "execution_count": null,
   "metadata": {},
   "outputs": [],
   "source": []
  }
 ],
 "metadata": {
  "kernelspec": {
   "display_name": "Python 3",
   "language": "python",
   "name": "python3"
  },
  "language_info": {
   "codemirror_mode": {
    "name": "ipython",
    "version": 3
   },
   "file_extension": ".py",
   "mimetype": "text/x-python",
   "name": "python",
   "nbconvert_exporter": "python",
   "pygments_lexer": "ipython3",
   "version": "3.6.9"
  }
 },
 "nbformat": 4,
 "nbformat_minor": 4
}
