{
 "cells": [
  {
   "cell_type": "code",
   "execution_count": 8,
   "metadata": {},
   "outputs": [],
   "source": [
    "import numpy as np\n",
    "import matplotlib.pyplot as plt"
   ]
  },
  {
   "cell_type": "code",
   "execution_count": 9,
   "metadata": {},
   "outputs": [],
   "source": [
    "moonMass = 7.34767309 * 10**22\n",
    "moonDist = 3.844 * 10**8\n",
    "timeToEarth = 12\n",
    "earthMass = 5.972 * 10**24\n",
    "G = 6.67408 * 10**(-11)"
   ]
  },
  {
   "cell_type": "code",
   "execution_count": 17,
   "metadata": {},
   "outputs": [
    {
     "name": "stdout",
     "output_type": "stream",
     "text": [
      "-5338888.888888889\n"
     ]
    }
   ],
   "source": [
    "a = -2*(moonDist)/timeToEarth**2\n",
    "print(a)"
   ]
  },
  {
   "cell_type": "markdown",
   "metadata": {},
   "source": [
    "What is the least amount of energy neccesary to throw the moon on Ironman in 12 seconds?"
   ]
  },
  {
   "cell_type": "code",
   "execution_count": 16,
   "metadata": {},
   "outputs": [
    {
     "data": {
      "image/png": "[encoded data removed]",
      "text/plain": [
       "<Figure size 432x288 with 1 Axes>"
      ]
     },
     "metadata": {
      "needs_background": "light"
     },
     "output_type": "display_data"
    }
   ],
   "source": [
    "n = 1000\n",
    "dt = 0.012\n",
    "\n",
    "time = np.linspace(0, n*dt, n)\n",
    "pos = np.zeros(n)\n",
    "pos[0] = moonDist\n",
    "vel = np.zeros(n)\n",
    "acc = np.zeros(n)\n",
    "\n",
    "for i in range(n-1):\n",
    "    acc[i] = a\n",
    "    vel[i+1] = vel[i] + acc[i]*dt\n",
    "    pos[i+1] = pos[i] + vel[i+1]*dt\n",
    "    \n",
    "plt.plot(time, pos)\n",
    "plt.grid()\n",
    "plt.show()"
   ]
  },
  {
   "cell_type": "code",
   "execution_count": 18,
   "metadata": {},
   "outputs": [
    {
     "name": "stdout",
     "output_type": "stream",
     "text": [
      "-64002599.999999076\n"
     ]
    }
   ],
   "source": [
    "print(vel[-1])"
   ]
  },
  {
   "cell_type": "code",
   "execution_count": null,
   "metadata": {},
   "outputs": [],
   "source": []
  }
 ],
 "metadata": {
  "kernelspec": {
   "display_name": "Python 3",
   "language": "python",
   "name": "python3"
  },
  "language_info": {
   "codemirror_mode": {
    "name": "ipython",
    "version": 3
   },
   "file_extension": ".py",
   "mimetype": "text/x-python",
   "name": "python",
   "nbconvert_exporter": "python",
   "pygments_lexer": "ipython3",
   "version": "3.7.3"
  }
 },
 "nbformat": 4,
 "nbformat_minor": 2
}
