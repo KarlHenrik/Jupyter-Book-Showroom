{
 "cells": [
  {
   "cell_type": "markdown",
   "metadata": {},
   "source": [
    "# What if Thanos threw the moon into the Earth?"
   ]
  },
  {
   "cell_type": "code",
   "execution_count": 1,
   "metadata": {},
   "outputs": [],
   "source": [
    "import numpy as np\n",
    "import matplotlib.pyplot as plt"
   ]
  },
  {
   "cell_type": "code",
   "execution_count": 13,
   "metadata": {},
   "outputs": [],
   "source": [
    "earthMass = 5.972 * 10**24\n",
    "moonMass = 7.34767309 * 10**22\n",
    "sunMass = 1.989 * 10**30\n",
    "moonVel = 2 * 32033333 #m/s\n",
    "#moonVel = 3*10**8\n",
    "AU = 1.496 * 10**11"
   ]
  },
  {
   "cell_type": "code",
   "execution_count": 14,
   "metadata": {},
   "outputs": [
    {
     "name": "stdout",
     "output_type": "stream",
     "text": [
      "778666.3297009133\n"
     ]
    }
   ],
   "source": [
    "afterVel = (moonMass * moonVel) / (moonMass + earthMass)\n",
    "print(afterVel)"
   ]
  },
  {
   "cell_type": "code",
   "execution_count": 4,
   "metadata": {},
   "outputs": [],
   "source": [
    "G = 6.67408 * 10**(-11)\n",
    "def gravity(planet):\n",
    "    return -10**10 * G * sunMass / (np.linalg.norm(planet.getPosition())**3) * planet.getPosition()"
   ]
  },
  {
   "cell_type": "code",
   "execution_count": 5,
   "metadata": {},
   "outputs": [],
   "source": [
    "class Planet():\n",
    "    def __init__(self, name, position, velocity):\n",
    "        self._name = name\n",
    "        self._position = position * AU\n",
    "        self._velocity = velocity * AU\n",
    "\n",
    "    def distance(self, planet):\n",
    "        return np.linalg.norm(self._position - planet.getPosition())\n",
    "    \n",
    "    def getPosition(self):\n",
    "        return self._position\n",
    "    \n",
    "    def addVel(self, moreVel):\n",
    "        self._velocity += moreVel\n",
    "    \n",
    "    def __repr__(self):\n",
    "        return str(self._name)\n",
    "    \n",
    "    def getName(self):\n",
    "        return self._name\n",
    "    \n",
    "    def move(self, dt):\n",
    "        a = gravity(self)\n",
    "        self._velocity += a * dt\n",
    "        self._position += self._velocity * dt\n",
    "        return self._position"
   ]
  },
  {
   "cell_type": "code",
   "execution_count": 6,
   "metadata": {},
   "outputs": [],
   "source": [
    "def sciToFloat(sciNum):\n",
    "    num = sciNum[0:-4]\n",
    "    exp = sciNum[-3:]\n",
    "    return float(num)*10**float(exp)"
   ]
  },
  {
   "cell_type": "code",
   "execution_count": 7,
   "metadata": {},
   "outputs": [
    {
     "name": "stdout",
     "output_type": "stream",
     "text": [
      "[Mercury, Venus, Earth, Mars, Jupiter, Saturn, Uranus, Neptune]\n",
      "Sun\n"
     ]
    }
   ],
   "source": [
    "infile = open(\"Resources/MoonThrowResources/Planets.txt\",\"r\")\n",
    "text = [line for line in infile] #Doing this approach as we will need to read several lines at once\n",
    "infile.close()\n",
    "planets = []\n",
    "for i in range(0, len(text)+1, 6): #Reading six lines at a time, then using data in relation to where we are\n",
    "    name = text[i][0:-1] #The name without the newline\n",
    "    \n",
    "    positionLine = text[i+3].split() #The line with the positional data\n",
    "    #X= -3.151684989201348E-01 Y= -3.196952673067147E-01 Z= 2.789502469478788E-03 <- Data for Mercury as example\n",
    "    #Saving positional data in 3D array. Reading the numbers with sciToFloat function\n",
    "    position = np.array( [sciToFloat(positionLine[1]), sciToFloat(positionLine[3]), sciToFloat(positionLine[5])] )\n",
    "    \n",
    "    velocityLine = text[i+4].split() #The line with the velocity data\n",
    "    #Same approach as with positions\n",
    "    velocity = np.array( [sciToFloat(velocityLine[1]), sciToFloat(velocityLine[3]), sciToFloat(velocityLine[5])] )\n",
    "    \n",
    "    planets.append(Planet(name, position, velocity)) #Creating new planet object\n",
    "#[Mercury, Venus, Earth, Mars, Jupiter, Saturn, Uranus, Neptune, Sun]\n",
    "\n",
    "sun = planets.pop(-1)\n",
    "print(planets)\n",
    "print(sun)"
   ]
  },
  {
   "cell_type": "code",
   "execution_count": 8,
   "metadata": {},
   "outputs": [
    {
     "data": {
      "image/png": "[encoded data removed]",
      "text/plain": [
       "<Figure size 432x288 with 1 Axes>"
      ]
     },
     "metadata": {
      "needs_background": "light"
     },
     "output_type": "display_data"
    }
   ],
   "source": [
    "colors = [\"#112201\", \"#9921AA\", \"#223399\", \"#26FF24\"]\n",
    "for i in range(4):\n",
    "    planet = planets[i]\n",
    "    color = colors[i]\n",
    "    pos = planet.getPosition()\n",
    "    plt.plot(pos[0]/AU, pos[1]/AU,'o',color=color, label=planet.getName()) #The yellow point on the plot\n",
    "\n",
    "#pos = planets[2].getPosition()\n",
    "#plt.plot(pos[0], pos[1],'o',color='#334499') #The yellow point on the plot\n",
    "\n",
    "pos = sun.getPosition()\n",
    "plt.plot(pos[0]/AU, pos[1]/AU,'o',color='#FFD700') #The yellow point on the plot\n",
    "\n",
    "plt.xlim(-2,2)\n",
    "plt.ylim(-2,2)\n",
    "plt.legend()\n",
    "plt.grid()\n",
    "plt.show()"
   ]
  },
  {
   "cell_type": "code",
   "execution_count": 9,
   "metadata": {},
   "outputs": [
    {
     "name": "stdout",
     "output_type": "stream",
     "text": [
      "[-2.57732266e+09 -4.55876449e+08  4.99348604e+04]\n"
     ]
    }
   ],
   "source": [
    "print(planets[2]._velocity)"
   ]
  },
  {
   "cell_type": "code",
   "execution_count": 10,
   "metadata": {},
   "outputs": [],
   "source": [
    "n = 100000\n",
    "dt = 0.004\n",
    "planets[3]._position = planets[2]._position + 0\n",
    "planets[3]._velocity = planets[2]._velocity + 0\n",
    "\n",
    "for planet in planets[:4]:\n",
    "    planet.pos = np.zeros((n,3))\n",
    "\n",
    "planets[2].addVel(np.array([0,afterVel,0]))\n",
    "    \n",
    "for i in range(n):\n",
    "    for planet in planets[:4]:\n",
    "        planet.pos[i] = planet.move(dt)"
   ]
  },
  {
   "cell_type": "code",
   "execution_count": 11,
   "metadata": {},
   "outputs": [
    {
     "name": "stdout",
     "output_type": "stream",
     "text": [
      "[ 8.37818959e+10  1.02523535e+11 -5.98429225e+06]\n",
      "[ 8.41661590e+10  1.02275701e+11 -5.96911976e+06]\n"
     ]
    }
   ],
   "source": [
    "print(planets[2].getPosition())\n",
    "print(planets[3].getPosition())"
   ]
  },
  {
   "cell_type": "code",
   "execution_count": 12,
   "metadata": {},
   "outputs": [
    {
     "data": {
      "image/png": "[encoded data removed]",
      "text/plain": [
       "<Figure size 432x288 with 1 Axes>"
      ]
     },
     "metadata": {
      "needs_background": "light"
     },
     "output_type": "display_data"
    }
   ],
   "source": [
    "\n",
    "\n",
    "#pos = planets[2].getPosition()\n",
    "#plt.plot(pos[0], pos[1],'o',color='#334499') #The yellow point on the plot\n",
    "\n",
    "pos = sun.getPosition()\n",
    "plt.plot(pos[0]/AU, pos[1]/AU,'o',color='#FFD700', label=\"The Sun\") #The yellow point on the plot\n",
    "\n",
    "for planet in planets[:4]:\n",
    "    pos = planet.pos\n",
    "    plt.plot(pos[:, 0]/AU, pos[:, 1]/AU)\n",
    "\n",
    "colors = [\"#112201\", \"#9921AA\", \"#223399\", \"#26FF24\"]\n",
    "for i in range(4):\n",
    "    planet = planets[i]\n",
    "    color = colors[i]\n",
    "    pos = planet.getPosition()\n",
    "    plt.plot(pos[0]/AU, pos[1]/AU,'o',color=color, label=planet.getName()) #The yellow point on the plot\n",
    "\n",
    "epos = planets[2].getPosition()/AU\n",
    "\n",
    "#plt.xlim(epos[0]-0.1,epos[0]+0.1)\n",
    "#plt.ylim(epos[1]-0.1,epos[1]+0.1)\n",
    "plt.legend(loc=\"upper left\")\n",
    "plt.grid()\n",
    "plt.show()"
   ]
  },
  {
   "cell_type": "code",
   "execution_count": null,
   "metadata": {},
   "outputs": [],
   "source": []
  }
 ],
 "metadata": {
  "kernelspec": {
   "display_name": "Python 3",
   "language": "python",
   "name": "python3"
  },
  "language_info": {
   "codemirror_mode": {
    "name": "ipython",
    "version": 3
   },
   "file_extension": ".py",
   "mimetype": "text/x-python",
   "name": "python",
   "nbconvert_exporter": "python",
   "pygments_lexer": "ipython3",
   "version": "3.7.3"
  }
 },
 "nbformat": 4,
 "nbformat_minor": 2
}
