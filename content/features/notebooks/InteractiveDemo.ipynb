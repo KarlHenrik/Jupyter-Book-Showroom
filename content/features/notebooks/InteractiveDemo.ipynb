{
 "cells": [
  {
   "cell_type": "code",
   "execution_count": 2,
   "metadata": {
    "tags": [
     "interactive"
    ]
   },
   "outputs": [
    {
     "data": {
      "application/vnd.jupyter.widget-view+json": {
       "model_id": "281e66b1dee14c8b8d2d88bee13241bf",
       "version_major": 2,
       "version_minor": 0
      },
      "text/plain": [
       "interactive(children=(FloatSlider(value=1.0, description='s', max=2.0, min=0.1), Dropdown(description='cmap', …"
      ]
     },
     "metadata": {},
     "output_type": "display_data"
    }
   ],
   "source": [
    "from ipywidgets import interact, FloatSlider\n",
    "import numpy as np\n",
    "import matplotlib.pyplot as plt\n",
    "from IPython.display import display, HTML\n",
    "plt.ion()\n",
    "\n",
    "x = np.arange(500)\n",
    "y = np.random.randn(500)\n",
    "\n",
    "def update_plot_size(s, cmap):\n",
    "    if cmap == \"jet\":\n",
    "        display(HTML(\"<h2 style='color: red; margin: 0px auto;'>Nope</h2>\"))\n",
    "        return\n",
    "    fig, ax = plt.subplots()\n",
    "    ax.scatter(x, y, c=y, s=x*s, cmap=cmap)\n",
    "\n",
    "interact(update_plot_size, s=FloatSlider(value=1, min=.1, max=2, step=.1), cmap=['viridis', 'magma', 'jet']);"
   ]
  },
  {
   "cell_type": "code",
   "execution_count": null,
   "metadata": {},
   "outputs": [],
   "source": []
  }
 ],
 "metadata": {
  "kernelspec": {
   "display_name": "Python 3",
   "language": "python",
   "name": "python3"
  },
  "language_info": {
   "codemirror_mode": {
    "name": "ipython",
    "version": 3
   },
   "file_extension": ".py",
   "mimetype": "text/x-python",
   "name": "python",
   "nbconvert_exporter": "python",
   "pygments_lexer": "ipython3",
   "version": "3.7.3"
  }
 },
 "nbformat": 4,
 "nbformat_minor": 2
}
