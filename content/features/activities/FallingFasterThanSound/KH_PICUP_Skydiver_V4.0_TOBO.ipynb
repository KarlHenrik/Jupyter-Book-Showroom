{
 "cells": [
  {
   "cell_type": "markdown",
   "metadata": {},
   "source": [
    "# What is the minimum fall height to break the sound barrier in a non-uniform atmosphere?"
   ]
  },
  {
   "cell_type": "markdown",
   "metadata": {},
   "source": [
    "## Learning Objectives"
   ]
  },
  {
   "cell_type": "markdown",
   "metadata": {},
   "source": [
    "After completing this exercise set, the student will be able to:\n",
    "- Implement a model for air resistance with a varying air density\n",
    "- Compute the movement of a falling object using the Euler-Cromer method\n",
    "- Solve a problem using a root-finding algoritm known as the bisection method\n",
    "- Evaluate the resonability of the model using the graphs of motion"
   ]
  },
  {
   "cell_type": "markdown",
   "metadata": {},
   "source": [
    "## Introduction: Breaking the sound barrier"
   ]
  },
  {
   "cell_type": "markdown",
   "metadata": {},
   "source": [
    "Sound moves through the air with a velocity of $343m/s$. When something moves through the air at a higher velocity than sound, it creates a loud shockwave called a <a href=\"https://en.wikipedia.org/wiki/Sonic_boom\">sonic boom</a>. Sonic booms are often created by flying bullets, figher jets, and even bullwhips. What would it take for a human to move fast enough to produce a sonic boom? Is is possible to reach such a high velocity simply by falling through the air?\n",
    "\n",
    "The anwser is yes! It has been acheived on a couple of occasions by people who jumped from extreme heights. Notable mentions include <a href=\"https://newatlas.com/record-setting-manned-balloon-flight-skydive-red-bull-baumgartner/24553/\">Felix Baumgartner</a> who fell from 39045 meters in 2012, becoming the first person to break the sound barrier during a fall, and <a href=\"https://www.nytimes.com/2014/10/25/science/alan-eustace-jumps-from-stratosphere-breaking-felix-baumgartners-world-record.html\">Alan Eustace</a> who broke Felix's record high jump in 2014 with a fall from 41419 meters.\n",
    "\n",
    "The question then becomes: What is the minimum fall height necessary to break the sound barrier?"
   ]
  },
  {
   "cell_type": "markdown",
   "metadata": {},
   "source": [
    "## I. Modeling the Forces"
   ]
  },
  {
   "cell_type": "markdown",
   "metadata": {},
   "source": [
    "To calculate the fall you will first need to model the different forces acting on the skydiver. When you have the forces and initial conditions of the fall, you can calculate the movement during the entire fall."
   ]
  },
  {
   "cell_type": "markdown",
   "metadata": {},
   "source": [
    "### A. Gravity - The gas pedal"
   ]
  },
  {
   "cell_type": "markdown",
   "metadata": {},
   "source": [
    "The gravitational force between two objects is given by $F = -\\frac{GMm}{r^2}$\n",
    "\n",
    "where G is the gravitational constant $6.68\\times10^-11\\frac{Nm^2}{kg^2}$, M is the mass of one of the objects, m is the mass of the other object and r is the distance between the objects. The force acts on both of the objects, and is pointed from one object to the other. Furthermore, Newtons second law gives us that:\n",
    "\n",
    "$$\n",
    "\\begin{align*}\n",
    "F = ma \\Rightarrow a = \\frac{F}{m} = -\\frac{GMm}{r^2m} = -\\frac{GM}{r^2}\n",
    "\\end{align*}\n",
    "$$\n",
    "\n",
    "This means that the gravitational acceleration at any given time is dependant only on the mass of the object pulling on you, and your distance to it.\n",
    "\n",
    "Let's start off by importing the necessary libraries."
   ]
  },
  {
   "cell_type": "code",
   "execution_count": 2,
   "metadata": {},
   "outputs": [],
   "source": [
    "import numpy as np #Numpy is used for storing numbers and doing calculations effectively\n",
    "import matplotlib.pyplot as plt #matplotlib is used for plotting"
   ]
  },
  {
   "cell_type": "markdown",
   "metadata": {},
   "source": [
    "**Exercise 1:**\n",
    "\n",
    "Write the function **gravAccel(h)** that takes the height above the ground as a paramater, and returns the resultant gravitational **acceleration**. Make sure to take the Earth's radius and the direction of the force into account."
   ]
  },
  {
   "cell_type": "code",
   "execution_count": 3,
   "metadata": {},
   "outputs": [],
   "source": [
    "G = 6.674E-11 #Gravitational constant\n",
    "M = 5.972E24 #Mass of the Earth\n",
    "R_Earth = 6.371E6 #Radius of the Earth\n",
    "\n",
    "def gravAccel(h):\n",
    "    return -G*M/(R_Earth + h)**2"
   ]
  },
  {
   "cell_type": "markdown",
   "metadata": {},
   "source": [
    "### B. Air resistance - The brakes"
   ]
  },
  {
   "cell_type": "markdown",
   "metadata": {},
   "source": [
    "Air resistance (often called drag) is the force which the air exerts on an object moving through it, acting in the direction opposite of the relative motion. For the purpose of this exercise set, we will be using the drag equation to calculate air resistance. The drag equation works well at relatively high velocities, which is what we will be looking at.\n",
    "\n",
    "The drag equation is given by $F_D = \\frac{1}{2} \\rho v^2 C_D A$ where $\\rho$ is the air density, $v$ is the velocity, $C_D$ is the drag coefficient, and $A$ is the cross sectional area. For a skydiver, a drag coefficient $C_D = 0.3$ and a cross sectional area $A = 1m^2$ are <a href=\"https://www.longdom.org/open-access/buoyancy-explains-terminal-velocity-in-skydiving-2168-9792-1000189.pdf\">good enough estimates</a> for rough calculations.\n",
    "\n",
    "**Exercise 2:**\n",
    "\n",
    "Write the function **drag(v, rho)** that takes velocity and air density as parameters and returns the **force due to drag**. Make sure that the force acts in the direction opposite of the velocity."
   ]
  },
  {
   "cell_type": "code",
   "execution_count": 4,
   "metadata": {},
   "outputs": [],
   "source": [
    "def drag(v, rho):\n",
    "    return -0.5 * rho * v * abs(v) * 0.3 * 1"
   ]
  },
  {
   "cell_type": "markdown",
   "metadata": {},
   "source": [
    "**Exercise 3:**\n",
    "\n",
    "**a)** Let's assume that the atmosphere had a uniform desity of $1.225kg/m^3$ (the average density of air at sea level) all the way up. Using a gravitational acceleration of $9.81m/s^2$, a mass of $80kg$ and drag with an air density of $1.225kg/m^3$, set gravity and drag to be equal and find the resultant velocity. *(you can do this on paper with a calculator)*\n",
    "\n",
    "You result from **a)** is the terminal velocity, the velocity where drag and gravity cancel eachother out. When you reach this velocity, acceleration becomes zero and velocity becomes constant.\n",
    "\n",
    "**b)** Given your result in **a)**, would you be able to break the sound barrier by falling through an atmophere with a constant air density of $1.225kg/m^3$? Justify your anwser."
   ]
  },
  {
   "cell_type": "code",
   "execution_count": null,
   "metadata": {},
   "outputs": [],
   "source": []
  },
  {
   "cell_type": "markdown",
   "metadata": {},
   "source": [
    "### C. The varying density of the atmosphere"
   ]
  },
  {
   "cell_type": "markdown",
   "metadata": {},
   "source": [
    "To make our model more realistic and interesting, we can introduce a varying air density.\n",
    "\n",
    "Density is a measure of mass per unit volume. At sea level, air has a density of $1.225 kg/m^3$. This means that a cubic metre of air at sea level has a mass of $1.225kg$. As altitude increases however, the air density will decrease. This lower air density makes it much easier to reach the speed needed to break the sound barrier.\n",
    "\n",
    "Density, pressure, temperature and height are connected in complicated ways in the atmosphere. Moreover, these properties change all the time depending on location, weather effects, etc. Nevertheless, these properties are very important and useful to understand and pin down. We will be using a simplified model of the Earth's atmosphere offered by the <a href=\"https://www.grc.nasa.gov/WWW/k-12/airplane/atmosmet.html\">nasa website</a> will be sufficient for the purposes of this exercise set.\n",
    "\n",
    "From the model on the website, a function for the air density given height can be written:"
   ]
  },
  {
   "cell_type": "code",
   "execution_count": 5,
   "metadata": {},
   "outputs": [],
   "source": [
    "def airDensity(h):\n",
    "    if h > 25000:\n",
    "        T = -131.21 + 0.00299 * h\n",
    "        p = 2.488 * ((T + 273.1) / 216.6)**(-11.388)\n",
    "    elif 11000 < h <= 25000:\n",
    "        T = -56.46\n",
    "        p = 22.65 * np.exp(1.73 - 0.000157 * h)\n",
    "    else:\n",
    "        h = max(0, h) # Negative heights make no sense in this model, keep that in mind when analyzing results\n",
    "        T = 15.04 - 0.00649 * h\n",
    "        p = 101.29 * ((T + 273.1) / 288.08)**(5.256)\n",
    "    return(p / (0.2869 * (T + 273.1))) #The air density"
   ]
  },
  {
   "cell_type": "markdown",
   "metadata": {},
   "source": [
    "We can plot the density of the atmosphere up to a height of 50000 meters like this:"
   ]
  },
  {
   "cell_type": "code",
   "execution_count": 14,
   "metadata": {},
   "outputs": [
    {
     "data": {
      "image/png": "[encoded data removed]",
      "text/plain": [
       "<Figure size 432x288 with 1 Axes>"
      ]
     },
     "metadata": {
      "needs_background": "light"
     },
     "output_type": "display_data"
    }
   ],
   "source": [
    "x = np.linspace(0, 50000, 100)\n",
    "y = [airDensity(i) for i in x]\n",
    "plt.plot(x,y)\n",
    "plt.xlabel(\"Height [m]\")\n",
    "plt.ylabel(\"Air density [kg/m^3]\")\n",
    "plt.title(\"Density of the atmosphere\")\n",
    "plt.grid()\n",
    "plt.show()"
   ]
  },
  {
   "cell_type": "markdown",
   "metadata": {},
   "source": [
    "**Exercise 4:**\n",
    "\n",
    "**a)** Use the **airDensity** function to find the air density at 39045 meters. Find the terminal velocity with this air density and a gravitational acceleration of $9.81m/s^2$. Would you be able to break the sound barrier by falling through air with this density? Explain your anwser.\n",
    "\n",
    "**b)** What would the anwser to **4 a)** be with the air density at 1000 meters?"
   ]
  },
  {
   "cell_type": "code",
   "execution_count": null,
   "metadata": {},
   "outputs": [],
   "source": []
  },
  {
   "cell_type": "markdown",
   "metadata": {},
   "source": [
    "**Exercise 5:**\n",
    "\n",
    "Write the function **acceleration(h, v)** that takes the height above the ground and velocity as parameters, and returns the acceleration from gravity and drag. Use the **gravAccel**, **drag** and **airDensity** functions you have defined previously. Make sure to use the acceleration from drag, and not the force. You can set the mass of the skydiver equal to $80kg$."
   ]
  },
  {
   "cell_type": "code",
   "execution_count": 7,
   "metadata": {},
   "outputs": [],
   "source": [
    "m = 80\n",
    "def acceleration(h, v):\n",
    "    return gravAccel(h) + drag(v, airDensity(h))/m"
   ]
  },
  {
   "cell_type": "markdown",
   "metadata": {},
   "source": [
    "## II. Calculating the fall through a non-uniform atmosphere"
   ]
  },
  {
   "cell_type": "markdown",
   "metadata": {},
   "source": [
    "So far you have defined a function for one's acceleration when falling through a non-uniform atmosphere. Furthermore, if you assume that the fall starts off from a given height with no velocity, you also have the initial conditions of the fall. Using these two things, the acceleration function and the initial conditions, you can simulate the fall.\n",
    "\n",
    "Later, you are going to find the starting height which is necessary to reach high enough speeds to break the sound barrier. Before that though, you will calculate a single fall to see how the calculations work."
   ]
  },
  {
   "cell_type": "markdown",
   "metadata": {},
   "source": [
    "### A. Initializing variables and arrays"
   ]
  },
  {
   "cell_type": "markdown",
   "metadata": {},
   "source": [
    "The simulation method that will be used in this exercise set is the Euler-Cromer method. Like many most numerical methods for simulating motion, it uses the fact that although velocity and acceleration might be changing constantly, if you look at them over a very tiny time step they are essentially constant. Using this principle, you can calculate a long series of linear motions with constant velocity, acheiving surprisingly accurate results.\n",
    "\n",
    "To implement the method, you will need to know how long to run the simulation, and how short each time step should be. 5000 time steps of 0.05 seconds will work well here, although this resolution will be insufficient for more detailed simulations. To make the code more efficient, we will create some arrays to store our values. Arrays are similar to lists, however size cannot be changed and they are in many cases more computationally efficient."
   ]
  },
  {
   "cell_type": "code",
   "execution_count": 8,
   "metadata": {},
   "outputs": [],
   "source": [
    "#These values gives us a good look at a fall from 0 to 100km\n",
    "n = 5000  #The number of steps in the Euler-Cromer calculation\n",
    "dt = 0.05 #The size of each time-step in the Euler-Cromer calculation\n",
    "\n",
    "pos = np.zeros(n) #Height in meters. The array is length n\n",
    "vel = np.zeros(n) #Velocity in m/s. \n",
    "acc = np.zeros(n) #Acceleration in m/s^2\n",
    "\n",
    "time = np.linspace(0, n*dt, n) #this creates an array of time values, of length n, where each value is n*dt\n",
    "\n",
    "pos[0] = 41419 #These values were already 0, but feel free to change them and see what happens"
   ]
  },
  {
   "cell_type": "markdown",
   "metadata": {},
   "source": [
    "### The Euler-Cromer loop"
   ]
  },
  {
   "cell_type": "markdown",
   "metadata": {},
   "source": [
    "**EXERCISE 6:**\n",
    "\n",
    "Do the Euler-Cromer calculation of a fall through a non-uniform atmosphere with the initial conditions from above, and an acceleration given by the **acceleration** function. (The current position during the loop will in this case be pos[i])\n",
    "\n",
    "Here is a template for how the Euler-Cromer method can look when storing values in arrays:\n",
    "\n",
    "    for i in range(n-1):\n",
    "        acc[i] = function(arguments)\n",
    "        vel[i+1] = vel[i] + acc[i] *dt\n",
    "        pos[i+1] = pos[i] + vel[i+1] *dt\n",
    "    \n",
    "    #The last value of this array needs to be calculated seperately\n",
    "    acc[n-1] = function(arguments)"
   ]
  },
  {
   "cell_type": "code",
   "execution_count": 9,
   "metadata": {},
   "outputs": [],
   "source": [
    "for i in range(n-1):\n",
    "    acc[i] = acceleration(pos[i], vel[i])\n",
    "    vel[i+1] = vel[i] + acc[i]*dt\n",
    "    pos[i+1] = pos[i] + vel[i+1]*dt\n",
    "    \n",
    "#The last values of these arrays need to be calculated seperately\n",
    "acc[n-1] = acceleration(pos[n-1], vel[n-1])"
   ]
  },
  {
   "cell_type": "markdown",
   "metadata": {},
   "source": [
    "### Plotting the results"
   ]
  },
  {
   "cell_type": "markdown",
   "metadata": {},
   "source": [
    "Plotting often involves a lot of functions to fill in all of the necessary information, though a simple \"plot(time, pos)\" can often be sufficient.\n",
    "\n",
    "Here is an example of how code to plot these results can look. Hopefully the previous calculations made these plots look reasonable"
   ]
  },
  {
   "cell_type": "code",
   "execution_count": 10,
   "metadata": {},
   "outputs": [
    {
     "data": {
      "image/png": "[encoded data removed]",
      "text/plain": [
       "<Figure size 1368x288 with 3 Axes>"
      ]
     },
     "metadata": {
      "needs_background": "light"
     },
     "output_type": "display_data"
    }
   ],
   "source": [
    "plt.figure(figsize=(19,4))\n",
    "plt.subplot(131)\n",
    "plt.plot(time, pos/1000)\n",
    "plt.xlabel(\"Time [s]\")\n",
    "plt.ylabel(\"[km]\")\n",
    "plt.title(\"Height\")\n",
    "plt.grid()\n",
    "\n",
    "plt.subplot(132)\n",
    "plt.plot(time, vel, color=\"orange\")\n",
    "plt.xlabel(\"Time [s]\")\n",
    "plt.ylabel(\"[m/s]\")\n",
    "plt.title(\"Velocity\")\n",
    "plt.grid()\n",
    "\n",
    "plt.subplot(133)\n",
    "plt.plot(time, acc, color=\"green\")\n",
    "plt.xlabel(\"Time [s]\")\n",
    "plt.ylabel(\"[m/s^2]\")\n",
    "plt.title(\"Acceleration\")\n",
    "plt.grid()\n",
    "\n",
    "plt.show()"
   ]
  },
  {
   "cell_type": "markdown",
   "metadata": {},
   "source": [
    "**Exercise 7:**\n",
    "\n",
    "**a)** If all went well, your acceleration graph should have a somewhat strange shape. Justify this shape using the formula for air resistance. In particular, try to explain the value of the initial acceleration, the acceleration with the largest positive value and the acceleraton near the end. \n",
    "\n",
    "**b)** What effect would increasing the weight of the skydiver have on your results?\n",
    "\n",
    "**c)** What would change about the shape of the acceleration graph if the air density was constant?"
   ]
  },
  {
   "cell_type": "code",
   "execution_count": null,
   "metadata": {},
   "outputs": [],
   "source": []
  },
  {
   "cell_type": "markdown",
   "metadata": {},
   "source": [
    "**Exercise 8:**\n",
    "\n",
    "Did the skydiver break the speed barrier (343m/s) during the fall? If so, do you think he or she could have done so with a lower initial height?"
   ]
  },
  {
   "cell_type": "code",
   "execution_count": null,
   "metadata": {},
   "outputs": [],
   "source": []
  },
  {
   "cell_type": "markdown",
   "metadata": {},
   "source": [
    "## III. The Bisection Method - Finding the height necessary to break the sound barrier"
   ]
  },
  {
   "cell_type": "markdown",
   "metadata": {},
   "source": [
    "We know that it's possible to break the sound barrier by falling from high enough up in the atmosphere. But what is the minimum necessary height?\n",
    "\n",
    "Your next task is to find the lowest input height h necessary to give you a top speed of 343m/s. To solve this kind of problem, you can use the **bisection method**. The bisection method is a search algorithm that finds when a given function returns a desired value, within a certain tolerance. It is significantly more computationally efficient than a brute force method (i.e., testing every value until you find the one you want). \n",
    "\n",
    "To implement the bisection method, you start by defining your search space. That is, you start by defining the upper and lower bounds of the range of values you will be searching over—call them the **ceiling** and the **floor**. In practice, it's helpful to choose values that are much higher and lower than your expected values, since some extra padding either way will not significantly affect the speed of the search.\n",
    "\n",
    "With these boundaries specified, the algorithm proceeds as follows: first, you evaluate your function using a value halfway between the **floor** and **ceiling** (call this the **middle**). If your function returns results that are too low, you know that the actual value will be above the middle, so you set the **floor's** value equal to the **middle** (raise the floor). If the returned value is too high, you know the actual value you are looking for will be below the middle, and you set the **ceiling** equal to the **middle** (lower the ceiling). You then repeat this this process with the new **floor** and **ceiling**, until the values of the **floor** and **ceiling** are very close together. Then, your desired value will be the value between them.\n",
    "\n",
    "You can see an illustration of how this method works in the attached figure."
   ]
  },
  {
   "cell_type": "markdown",
   "metadata": {},
   "source": [
    "<img src=\"Bis4.png\" alt=\"Drawing\" style=\"width: 80%;\"/>"
   ]
  },
  {
   "cell_type": "markdown",
   "metadata": {},
   "source": [
    "*An illustration of four iterations of the bisection method. For implementation in other contexts, please refer to a more <a href=\"https://en.wikipedia.org/wiki/Bisection_method\">general desription</a> of the method.*"
   ]
  },
  {
   "cell_type": "markdown",
   "metadata": {},
   "source": [
    "In the previous section, you wrote a script to calculate the motion of an object falling through the atmosphere. Your next task will be to turn this script into a function, **maxVel(h)**, which takes in a starting height as a parameter, runs the Euler-Cromer calculation and returns the top speed reached during the fall. You can then apply the bisection method to this function to find the input height necessary to break the sound barrier (for simplicity's sake, take the final **ceiling** as your anwser). You are free to choose your own search space, but we would suggest starting with floor of 0 meters and a ceiling of 100 000 meters (known as the Karman Line, where space begins)."
   ]
  },
  {
   "cell_type": "markdown",
   "metadata": {},
   "source": [
    "**Exercise 9:**\n",
    "\n",
    "Write the function **maxVel(h)** that takes a starting height above the ground as a parameter, runs the Euler-Cromer calculation like you did in Exercise 5, and returns the top speed reached during the fall. Numpy arrays have built in functions which make this easier, for example vel.min() or vel.max()."
   ]
  },
  {
   "cell_type": "code",
   "execution_count": 11,
   "metadata": {},
   "outputs": [],
   "source": [
    "def maxVel(h):\n",
    "    pos[0] = h\n",
    "    \n",
    "    for i in range(n-1):\n",
    "        acc[i] = acceleration(pos[i], vel[i])\n",
    "        vel[i+1] = vel[i] + acc[i]*dt\n",
    "        pos[i+1] = pos[i] + vel[i+1]*dt\n",
    "    \n",
    "    return(max(abs(vel.min()), vel.max()) - 343)"
   ]
  },
  {
   "cell_type": "markdown",
   "metadata": {},
   "source": [
    "**Exercise 10:**\n",
    "\n",
    "**a)** Implement the bisection method as described above. Start with a floor of 0m and a ceiling of 100 000m, and make it run 17 iterations (with a for loop for instance). Use the function **maxVel** from exercise 7.\n",
    "\n",
    "**b)** Print out the final value of the ceiling, which will be your anwser. Also print out the final value of the floor. What is the biggest possible error your awnser can have? How can you reduce it?"
   ]
  },
  {
   "cell_type": "code",
   "execution_count": 12,
   "metadata": {},
   "outputs": [
    {
     "name": "stdout",
     "output_type": "stream",
     "text": [
      "34133.148193359375\n",
      "34132.38525390625\n"
     ]
    }
   ],
   "source": [
    "floor = 0\n",
    "ceiling = 100000\n",
    "for i in range(17):\n",
    "    middle = (floor + ceiling)/2\n",
    "    middleVal = maxVel(middle)\n",
    "    if middleVal < 0:\n",
    "        floor = middle\n",
    "    else:\n",
    "        ceiling = middle\n",
    "print(ceiling)\n",
    "print(floor)"
   ]
  },
  {
   "cell_type": "code",
   "execution_count": 13,
   "metadata": {},
   "outputs": [
    {
     "ename": "IndentationError",
     "evalue": "expected an indented block (<ipython-input-13-0ae779223af4>, line 6)",
     "output_type": "error",
     "traceback": [
      "\u001b[1;36m  File \u001b[1;32m\"<ipython-input-13-0ae779223af4>\"\u001b[1;36m, line \u001b[1;32m6\u001b[0m\n\u001b[1;33m    else:\u001b[0m\n\u001b[1;37m       ^\u001b[0m\n\u001b[1;31mIndentationError\u001b[0m\u001b[1;31m:\u001b[0m expected an indented block\n"
     ]
    }
   ],
   "source": [
    "#Scaffolded version?\n",
    "for i in range():\n",
    "    \n",
    "    if middleVal < 343:\n",
    "        \n",
    "    else:\n",
    "        "
   ]
  },
  {
   "cell_type": "markdown",
   "metadata": {},
   "source": [
    "After only 17 iterations you have reduced the search area from 100 000m to under 1m. To get the same accuracy by just trying out a range of values you would need to try out 100 000 different values. This is why it is useful to use a search algorithm!"
   ]
  },
  {
   "cell_type": "markdown",
   "metadata": {},
   "source": [
    "## Bonus Exercise\n",
    "\n",
    "**a)** Use the starting height you found in Exercise 8 and calculate the position, velocity and acceleration during the fall. Make sure to not name your arrays and variables the same names as in the earlier code, as this might produce undesirable results."
   ]
  },
  {
   "cell_type": "code",
   "execution_count": null,
   "metadata": {},
   "outputs": [],
   "source": [
    "pos2 = np.zeros(n) #Height in meters\n",
    "vel2 = np.zeros(n) #Velocity in m/s\n",
    "acc2 = np.zeros(n) #Acceleration in m/s^2\n",
    "\n",
    "pos2[0] = ceiling #These values were already 0, but feel free to change them and see what happens\n",
    "    \n",
    "for i in range(n-1):\n",
    "    acc2[i] = acceleration(pos2[i], vel2[i])\n",
    "    vel2[i+1] = vel2[i] + acc2[i]*dt\n",
    "    pos2[i+1] = pos2[i] + vel2[i+1]*dt\n",
    "\n",
    "#The last values of this array needs to be calculated seperately\n",
    "acc2[n-1] = acceleration(pos2[i], vel2[i])"
   ]
  },
  {
   "cell_type": "markdown",
   "metadata": {},
   "source": [
    "**b)** Copy and alter the plotting code to plot your results from **a)**"
   ]
  },
  {
   "cell_type": "code",
   "execution_count": null,
   "metadata": {},
   "outputs": [],
   "source": [
    "plt.figure(figsize=(19,4))\n",
    "plt.subplot(131)\n",
    "plt.plot(time, pos2/1000)\n",
    "plt.xlabel(\"Time [s]\")\n",
    "plt.ylabel(\"[km]\")\n",
    "plt.title(\"Height\")\n",
    "plt.grid()\n",
    "\n",
    "plt.subplot(132)\n",
    "plt.plot(time, vel2, color=\"orange\")\n",
    "plt.xlabel(\"Time [s]\")\n",
    "plt.ylabel(\"[m/s]\")\n",
    "plt.title(\"Velocity\")\n",
    "plt.grid()\n",
    "\n",
    "plt.subplot(133)\n",
    "plt.plot(time, acc2, color=\"green\")\n",
    "plt.xlabel(\"Time [s]\")\n",
    "plt.ylabel(\"[m/s^2]\")\n",
    "plt.title(\"Acceleration\")\n",
    "plt.grid()\n",
    "\n",
    "plt.show()"
   ]
  },
  {
   "cell_type": "code",
   "execution_count": null,
   "metadata": {},
   "outputs": [],
   "source": []
  }
 ],
 "metadata": {
  "kernelspec": {
   "display_name": "Python 3",
   "language": "python",
   "name": "python3"
  },
  "language_info": {
   "codemirror_mode": {
    "name": "ipython",
    "version": 3
   },
   "file_extension": ".py",
   "mimetype": "text/x-python",
   "name": "python",
   "nbconvert_exporter": "python",
   "pygments_lexer": "ipython3",
   "version": "3.7.3"
  }
 },
 "nbformat": 4,
 "nbformat_minor": 4
}
